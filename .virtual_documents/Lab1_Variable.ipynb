


s = [0] * 3
print(s)
s[0] += 1
print(s)


s = [''] * 3
print(s)
s[0] += 'a'
print(s)


s = [[]] * 3
print(s)
s[0] += [1]
print(s)


s = [0] * 3
print(s)
s[0] += 1
print(s)





def GCD(a,b):
    while b:
        a,b=b,a%b
    return a


GCD(0,75)


# recursive
def GCD_r(a,b):
    if b==0:
        return a
    else:
        return GCD_r(b,a%b)


GCD_r(0,75)





def flip_dict(dic):
    out={}
    for key,val in dic.items():
        if val not in out:
            out[val]=[]
        out[val].append(key)
    return out


flip_dict({"CA": "US", "NY": "US", "ON": "CA"})


flip_dict({"Mohamed": "Sousse",
           "Asma": "Bizerte",
           "Mariem": "Gafsa",
           "Ahmed":'Bizerte',
           'Ali':'Sousse',
           "Mounir":'Monastir',
           'Ons':'Béja',
           'Abdallah':"Bizerte"})





arr = [[3,2,1], ['a','b','c'], [('do',), ['re'], 'mi']]
print([el.append(el[0] * 4) for el in arr])  # What is printed?
print(arr)  # What is the content of `arr` at this point?





def generate_pascal_row(row):
    return [1]+[row[i]+row[i+1] for i in range(len(row)-1)]+[1]


generate_pascal_row([1, 4, 6, 4, 1]) 


generate_pascal_row([1, 5, 10, 10, 5, 1])








with open('words.txt','r') as file:
    extract_words = file.readlines()
    for line in extract_words[100:106]:
        print(line.strip())


def is_triad_phrase(phrase:str)->bool:
    words = phrase.split(' ')
    i = 0
    res = True
    try :
        with open('words.txt','r') as file:
            english = [w.strip().lower() for w in file.readlines()]
            #print(english[100:105])
            while i < len(words) and res:
                w1 =''.join([words[i][j] for j in range(0,len(words[i]),2)])
                w2 =''.join([words[i][j] for j in range(1,len(words[i]),2)])
                print(w1,w2)
                if (w1 not in english) or (w2 not in english):
                    res = False
                i=i+1
        return res
    except FileNotFoundError:
        print(f"Le fichier words.txt n'existe pas.") 


is_triad_phrase("learned theorem")


is_triad_phrase("studied theories") # => False


is_triad_phrase("wooded agrarians") # => True


is_triad_phrase("forrested farmers") # => False


is_triad_phrase("schooled oriole") # => True


is_triad_phrase("educated small bird") # => False


is_triad_phrase("a") # => False


is_triad_phrase("") # => False





def is_surpassing_phrase(chaine:str):
    words = chaine.split(' ')
    res = True
    j= 0
    while j < len(words) and res :
        paires = [words[j][i:i+2] for i in range(0,len(words[j])-1)]
        diff   = [ord(x[1])-ord(x[0]) if ord(x[1])>ord(x[0]) else ord(x[0])-ord(x[1])  for x in paires]
        if diff != sorted(diff):
            res = False
        j=j+1
    return res


def is_surpassing_phrase(chaine:str):
    words = chaine.split(' ')
    res = True
    j= 0
    while j < len(words) and res :
        paires = [words[j][i:i+2] for i in range(0,len(words[j])-1)]
        diff   = [ord(x[1])-ord(x[0]) if ord(x[1])>ord(x[0]) else ord(x[0])-ord(x[1])  for x in paires]
        k = 0
        while k< len(diff)-1 and diff[k]<= diff[k+1]:
            k+=1
        if k < len(diff)-1:
            res = False
        j=j+1
    return res


is_surpassing_phrase('SUPERB')


is_surpassing_phrase("excellent train") # => False


is_surpassing_phrase("porky hogs") # => True


is_surpassing_phrase("plump pigs") # => False


is_surpassing_phrase("turnip fields") # => True


is_surpassing_phrase("root vegetable lands") # => False


is_surpassing_phrase("a") # => True


is_surpassing_phrase("") # => True





def cyclone_phrase(word:str):
    cycle = [ i//2 if i %2==0 else -((i+1)//2) for i in range(len(word))]
    return [word[j] for j in cycle]


cyclone_phrase('adjourned')


def is_cyclone_phrase(phrase):
    words = phrase.split(' ')
    res = True
    j=0
    while j< len(words) and res :
        cycle = [ words[j][i//2] if i %2==0 else words[j][-((i+1)//2)] for i in range(len(words[j]))]
        k = 0
        while k< len(words[j])-1 and cycle[k]<= cycle[k+1]:
            k+=1
        if k < len(words[j])-1:
            res = False
        j=j+1
    return res 


is_cyclone_phrase('adjourned')


is_cyclone_phrase("adjourned") # => True



is_cyclone_phrase("settled") # => False



is_cyclone_phrase("all alone at noon") # => True




is_cyclone_phrase("by myself at twelve pm") # => False



is_cyclone_phrase("acb") # => True


is_cyclone_phrase("") # => True


def is_cyclone_phrase(phrase):
    words = phrase.split(' ')
    res = True
    j=0
    while j< len(words) and res :
        cycle = [ i//2 if i %2==0 else -((i+1)//2) for i in range(len(words[j]))]
        word_cycle=[words[j][l] for l in cycle]
        if word_cycle != sorted(word_cycle):
            res = False
        j=j+1
    return res 
