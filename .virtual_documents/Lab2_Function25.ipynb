





def print_two(a, b):
    print("Arguments: {0} and {1}".format(a, b))


print_two()



print_two(4, 1)



print_two(41)



print_two(a=4, 1)



print_two(4, a=1)




print_two(4, 1, 1)



print_two(b=4, 1)



print_two(a=4, b=1)



print_two(b=1, a=4)



print_two(1, a=1)



print_two(4, 1, b=1)











def keyword_args(a, b=1, c='X', d=None):
    print("a:", a)
    print("b:", b)
    print("c:", c)
    print("d:", d)


keyword_args(5)


keyword_args(a=5)


keyword_args(5, 8)


keyword_args(5, 2, c=4)


keyword_args(5, 0, 1)


keyword_args(5, 2, d=8, c=4)


keyword_args(5, 2, 0, 1, "")


keyword_args(c=7, 1)


keyword_args(c=7, a=1)


keyword_args(5, 2, [], 5)


keyword_args(1, 7, e=6)


keyword_args(1, c=7)


keyword_args(5, 2, b=4)











def variadic(*args, **kwargs):
    print("Positional:", args)
    print("Keyword:", kwargs)


q = {1 :'variadic(2, 3, 5, 7)',
     2: 'variadic(1, 1, n=1)',
     3: 'variadic(n=1, 2, 3)',
     4: 'variadic()',
     5: 'variadic(cs="Computer Science", pd="Product Design")',
     6: 'variadic(cs="Computer Science", cs="CompSci", cs="CS")',
     7: 'variadic(5, 8, k=1, swap=2)',
     8: "variadic(8, *[3, 4, 5], k=1, **{'a':5, 'b':'x'})",
     9: "variadic(*[8, 3], *[4, 5], k=1, **{'a':5, 'b':'x'})",
     10: "variadic(*[3, 4, 5], 8, *(4, 1), k=1, **{'a':5, 'b':'x'})",
     11: "variadic({'a':5, 'b':'x'}, *{'a':5, 'b':'x'}, **{'a':5, 'b':'x'})"}


exec(q[2])





































































