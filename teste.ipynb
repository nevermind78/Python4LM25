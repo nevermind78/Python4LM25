{
 "cells": [
  {
   "cell_type": "code",
   "execution_count": 6,
   "metadata": {},
   "outputs": [
    {
     "data": {
      "text/plain": [
       "{'__name__': '__main__',\n",
       " '__doc__': 'Automatically created module for IPython interactive environment',\n",
       " '__package__': None,\n",
       " '__loader__': None,\n",
       " '__spec__': None,\n",
       " '__builtin__': <module 'builtins' (built-in)>,\n",
       " '__builtins__': <module 'builtins' (built-in)>,\n",
       " '_ih': ['',\n",
       "  'print(a)',\n",
       "  'a= 2',\n",
       "  'print(a)',\n",
       "  'locals()',\n",
       "  \"print(locals()['_i3'])\",\n",
       "  'locals()'],\n",
       " '_oh': {4: {...}},\n",
       " '_dh': [WindowsPath('c:/Users/Nevermind/Desktop/teach_python_in_notebooks-')],\n",
       " 'In': ['',\n",
       "  'print(a)',\n",
       "  'a= 2',\n",
       "  'print(a)',\n",
       "  'locals()',\n",
       "  \"print(locals()['_i3'])\",\n",
       "  'locals()'],\n",
       " 'Out': {4: {...}},\n",
       " 'get_ipython': <bound method InteractiveShell.get_ipython of <ipykernel.zmqshell.ZMQInteractiveShell object at 0x00000195811B4170>>,\n",
       " 'exit': <IPython.core.autocall.ZMQExitAutocall at 0x195811b5a60>,\n",
       " 'quit': <IPython.core.autocall.ZMQExitAutocall at 0x195811b5a60>,\n",
       " 'open': <function _io.open(file, mode='r', buffering=-1, encoding=None, errors=None, newline=None, closefd=True, opener=None)>,\n",
       " '_': {...},\n",
       " '__': '',\n",
       " '___': '',\n",
       " '__vsc_ipynb_file__': 'c:\\\\Users\\\\Nevermind\\\\Desktop\\\\teach_python_in_notebooks-\\\\teste.ipynb',\n",
       " '_i': \"print(locals()['_i3'])\",\n",
       " '_ii': 'locals()',\n",
       " '_iii': 'print(a)',\n",
       " '_i1': 'print(a)',\n",
       " '_i2': 'a= 2',\n",
       " 'a': 2,\n",
       " '_i3': 'print(a)',\n",
       " '_i4': 'locals()',\n",
       " '_4': {...},\n",
       " '_i5': \"print(locals()['_i3'])\",\n",
       " '_i6': 'locals()'}"
      ]
     },
     "execution_count": 6,
     "metadata": {},
     "output_type": "execute_result"
    }
   ],
   "source": [
    "locals()"
   ]
  },
  {
   "cell_type": "code",
   "execution_count": 8,
   "metadata": {},
   "outputs": [
    {
     "name": "stdout",
     "output_type": "stream",
     "text": [
      "2\n"
     ]
    }
   ],
   "source": [
    "print(a)"
   ]
  },
  {
   "cell_type": "code",
   "execution_count": null,
   "metadata": {},
   "outputs": [],
   "source": []
  }
 ],
 "metadata": {
  "kernelspec": {
   "display_name": "base",
   "language": "python",
   "name": "python3"
  },
  "language_info": {
   "codemirror_mode": {
    "name": "ipython",
    "version": 3
   },
   "file_extension": ".py",
   "mimetype": "text/x-python",
   "name": "python",
   "nbconvert_exporter": "python",
   "pygments_lexer": "ipython3",
   "version": "3.12.7"
  }
 },
 "nbformat": 4,
 "nbformat_minor": 2
}
