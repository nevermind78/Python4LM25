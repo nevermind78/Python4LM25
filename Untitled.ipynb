{
 "cells": [
  {
   "cell_type": "code",
   "execution_count": 1,
   "id": "dc0d9450-d6bd-449c-8d84-304a0faa5527",
   "metadata": {},
   "outputs": [],
   "source": [
    "L= [1,2,3,4]"
   ]
  },
  {
   "cell_type": "code",
   "execution_count": 2,
   "id": "8466c520-c817-4139-96f4-63e2a1fe0044",
   "metadata": {},
   "outputs": [],
   "source": [
    "from numpy import array"
   ]
  },
  {
   "cell_type": "code",
   "execution_count": 4,
   "id": "9da833ba-2cbe-4da1-8aae-091ab43b53bb",
   "metadata": {},
   "outputs": [
    {
     "data": {
      "text/plain": [
       "[1, 2, 3, 4]"
      ]
     },
     "execution_count": 4,
     "metadata": {},
     "output_type": "execute_result"
    }
   ],
   "source": [
    "L"
   ]
  },
  {
   "cell_type": "code",
   "execution_count": 5,
   "id": "dcedbfb7-4eee-4699-88aa-0936552b9e2b",
   "metadata": {},
   "outputs": [],
   "source": [
    "M = L "
   ]
  },
  {
   "cell_type": "code",
   "execution_count": 6,
   "id": "5c84dc3c-5c3f-423e-a436-42bb9a7d0f56",
   "metadata": {},
   "outputs": [
    {
     "data": {
      "text/plain": [
       "[1, 2, 3, 4]"
      ]
     },
     "execution_count": 6,
     "metadata": {},
     "output_type": "execute_result"
    }
   ],
   "source": [
    "M "
   ]
  },
  {
   "cell_type": "code",
   "execution_count": 7,
   "id": "9d7101fc-44ef-4e6e-b5d6-88c342d7f050",
   "metadata": {},
   "outputs": [],
   "source": [
    "L[3]=2025"
   ]
  },
  {
   "cell_type": "code",
   "execution_count": 8,
   "id": "c1fb93cd-8f0f-47f7-aece-1bd28bd82750",
   "metadata": {},
   "outputs": [
    {
     "data": {
      "text/plain": [
       "[1, 2, 3, 2025]"
      ]
     },
     "execution_count": 8,
     "metadata": {},
     "output_type": "execute_result"
    }
   ],
   "source": [
    "L"
   ]
  },
  {
   "cell_type": "code",
   "execution_count": 9,
   "id": "bef0870f-049b-43db-b705-6ad4edc6eddf",
   "metadata": {},
   "outputs": [
    {
     "data": {
      "text/plain": [
       "[1, 2, 3, 2025]"
      ]
     },
     "execution_count": 9,
     "metadata": {},
     "output_type": "execute_result"
    }
   ],
   "source": [
    "M"
   ]
  },
  {
   "cell_type": "code",
   "execution_count": 10,
   "id": "6ef052eb-f4cd-4e51-a418-a1b9896f55e1",
   "metadata": {},
   "outputs": [
    {
     "name": "stdout",
     "output_type": "stream",
     "text": [
      "The Zen of Python, by Tim Peters\n",
      "\n",
      "Beautiful is better than ugly.\n",
      "Explicit is better than implicit.\n",
      "Simple is better than complex.\n",
      "Complex is better than complicated.\n",
      "Flat is better than nested.\n",
      "Sparse is better than dense.\n",
      "Readability counts.\n",
      "Special cases aren't special enough to break the rules.\n",
      "Although practicality beats purity.\n",
      "Errors should never pass silently.\n",
      "Unless explicitly silenced.\n",
      "In the face of ambiguity, refuse the temptation to guess.\n",
      "There should be one-- and preferably only one --obvious way to do it.\n",
      "Although that way may not be obvious at first unless you're Dutch.\n",
      "Now is better than never.\n",
      "Although never is often better than *right* now.\n",
      "If the implementation is hard to explain, it's a bad idea.\n",
      "If the implementation is easy to explain, it may be a good idea.\n",
      "Namespaces are one honking great idea -- let's do more of those!\n"
     ]
    }
   ],
   "source": [
    "import this "
   ]
  },
  {
   "cell_type": "code",
   "execution_count": 11,
   "id": "e758cc27-7dcd-4e15-bcff-71ab47ef4ca2",
   "metadata": {},
   "outputs": [
    {
     "data": {
      "text/plain": [
       "[1, 2, 3, 2025]"
      ]
     },
     "execution_count": 11,
     "metadata": {},
     "output_type": "execute_result"
    }
   ],
   "source": [
    "L"
   ]
  },
  {
   "cell_type": "code",
   "execution_count": 12,
   "id": "27a01ff3-0f22-42a4-a02d-d88321abc7cc",
   "metadata": {},
   "outputs": [
    {
     "data": {
      "text/plain": [
       "4100626"
      ]
     },
     "execution_count": 12,
     "metadata": {},
     "output_type": "execute_result"
    }
   ],
   "source": [
    "2025**2+1"
   ]
  },
  {
   "cell_type": "code",
   "execution_count": 13,
   "id": "6ff41e06-76a8-4610-94f2-6c005630b806",
   "metadata": {},
   "outputs": [],
   "source": [
    "# L ==> [2,5,10,4100626]"
   ]
  },
  {
   "cell_type": "code",
   "execution_count": 15,
   "id": "fe69e02c-88e8-4f41-94df-bda68be0d67d",
   "metadata": {},
   "outputs": [
    {
     "name": "stdout",
     "output_type": "stream",
     "text": [
      "[2, 5, 10, 4100626]\n"
     ]
    }
   ],
   "source": [
    "F=[0,0,0,0]\n",
    "for i in range(4):\n",
    "    F[i] = L[i]**2+1\n",
    "print(F)\n"
   ]
  },
  {
   "cell_type": "code",
   "execution_count": 16,
   "id": "f88f9a9b-d83b-4ae1-9ec2-201ef2557268",
   "metadata": {},
   "outputs": [
    {
     "data": {
      "text/plain": [
       "[2, 5, 10, 4100626]"
      ]
     },
     "execution_count": 16,
     "metadata": {},
     "output_type": "execute_result"
    }
   ],
   "source": [
    "[ x**2+1 for x in L ]"
   ]
  },
  {
   "cell_type": "markdown",
   "id": "4c29487d-1ac1-4c9b-8d3c-0fd76cce38bb",
   "metadata": {},
   "source": [
    "$$E = \\{ n \\in \\mathbb{N} ; n \\leq 100 \\text{  ,n divisible par 3 et par 7} \\} $$"
   ]
  },
  {
   "cell_type": "code",
   "execution_count": 17,
   "id": "e45f96c7-ec47-4fbe-839a-9245e2f9a7c9",
   "metadata": {},
   "outputs": [
    {
     "name": "stdout",
     "output_type": "stream",
     "text": [
      "[0, 21, 42, 63, 84]\n"
     ]
    }
   ],
   "source": [
    "E= []\n",
    "for i in range(101):\n",
    "    if i %3 ==0 and i%7==0:\n",
    "        E.append(i)\n",
    "print(E)\n",
    "    \n",
    "    "
   ]
  },
  {
   "cell_type": "code",
   "execution_count": 18,
   "id": "a1b4b7a8-f497-4494-bbd3-9e192c78d35d",
   "metadata": {},
   "outputs": [
    {
     "data": {
      "text/plain": [
       "[0, 21, 42, 63, 84]"
      ]
     },
     "execution_count": 18,
     "metadata": {},
     "output_type": "execute_result"
    }
   ],
   "source": [
    "[n for n in range(101) if n%3==0 and n%7==0]"
   ]
  },
  {
   "cell_type": "code",
   "execution_count": null,
   "id": "590b0b2f-17ab-40c1-83f0-e707a9eafbda",
   "metadata": {},
   "outputs": [],
   "source": []
  }
 ],
 "metadata": {
  "kernelspec": {
   "display_name": "Python 3 (ipykernel)",
   "language": "python",
   "name": "python3"
  },
  "language_info": {
   "codemirror_mode": {
    "name": "ipython",
    "version": 3
   },
   "file_extension": ".py",
   "mimetype": "text/x-python",
   "name": "python",
   "nbconvert_exporter": "python",
   "pygments_lexer": "ipython3",
   "version": "3.10.16"
  }
 },
 "nbformat": 4,
 "nbformat_minor": 5
}
