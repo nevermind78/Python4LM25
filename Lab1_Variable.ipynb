{
 "cells": [
  {
   "attachments": {},
   "cell_type": "markdown",
   "metadata": {},
   "source": [
    "# Data Structures\n",
    "\n",
    "## Overview\n",
    "\n",
    "\n",
    "\n",
    "Above all, have fun playing with Python! Enjoy.\n",
    "\n",
    "## Investigating Data Structures\n",
    "\n",
    "*[Optional Reading on Standard Types - check out Sequence types and Mapping types](https://docs.python.org/3.4/library/stdtypes.html)*\n",
    "\n",
    "### Lists\n",
    "Type the following lines at your Python interactive interpreter and see if they match what you expect:\n",
    "\n",
    "```\n",
    "s = [0] * 3\n",
    "print(s)\n",
    "s[0] += 1\n",
    "print(s)\n",
    "\n",
    "s = [''] * 3\n",
    "print(s)\n",
    "s[0] += 'a'\n",
    "print(s)\n",
    "\n",
    "s = [[]] * 3\n",
    "print(s)\n",
    "s[0] += [1]\n",
    "print(s)\n",
    "```\n",
    "\n",
    "Why is this happening? Consider using the `id` function to investigate further. What happens when we replace the second-to-last line with `s[0] = s[0] + [1]`? What if we replace the line with `s[0].append(1)`?\n",
    "\n"
   ]
  },
  {
   "cell_type": "code",
   "execution_count": 1,
   "metadata": {},
   "outputs": [
    {
     "name": "stdout",
     "output_type": "stream",
     "text": [
      "[0, 0, 0]\n",
      "[1, 0, 0]\n"
     ]
    }
   ],
   "source": [
    "s = [0] * 3\n",
    "print(s)\n",
    "s[0] += 1\n",
    "print(s)"
   ]
  },
  {
   "cell_type": "code",
   "execution_count": 2,
   "metadata": {},
   "outputs": [
    {
     "name": "stdout",
     "output_type": "stream",
     "text": [
      "['', '', '']\n",
      "['a', '', '']\n"
     ]
    }
   ],
   "source": [
    "s = [''] * 3\n",
    "print(s)\n",
    "s[0] += 'a'\n",
    "print(s)"
   ]
  },
  {
   "cell_type": "code",
   "execution_count": 3,
   "metadata": {},
   "outputs": [
    {
     "name": "stdout",
     "output_type": "stream",
     "text": [
      "[[], [], []]\n",
      "[[1], [1], [1]]\n"
     ]
    }
   ],
   "source": [
    "s = [[]] * 3\n",
    "print(s)\n",
    "s[0] += [1]\n",
    "print(s)"
   ]
  },
  {
   "cell_type": "code",
   "execution_count": null,
   "metadata": {},
   "outputs": [],
   "source": [
    "s = [0] * 3\n",
    "print(s)\n",
    "s[0] += 1\n",
    "print(s)"
   ]
  },
  {
   "cell_type": "markdown",
   "metadata": {},
   "source": [
    "> il y a une différence entre [[]]*n et [ []  for i in range(n) ]"
   ]
  },
  {
   "attachments": {},
   "cell_type": "markdown",
   "metadata": {},
   "source": [
    "### Tuples\n",
    "\n",
    "Write a function to compute the [GCD](https://en.wikipedia.org/wiki/Greatest_common_divisor) of two positive integers. You can freely use the fact that `gcd(a, b)` is mathematically equal to `gcd(b, a % b)`, and that `gcd(a, 0) == a`.\n",
    "\n",
    "$$PGCD(a,b) = PGCD(b,a \\% b)$$\n",
    "\n",
    "```\n",
    "def gcd(a, b):\n",
    "    pass  # Your implementation here\n",
    "    \n",
    "gcd(10, 25) # => 5\n",
    "gcd(14, 15) # => 1\n",
    "gcd(3, 9) # => 3\n",
    "gcd(1, 1) # => 1\n",
    "```\n",
    "\n",
    "You can assume that `a >= b` if you'd like.\n",
    "\n",
    "It is possible to accomplish this in three lines of Python code (fewer if you're really clever). Consider exploiting tuple packing and unpacking!\n",
    "\n",
    "*Note: don't use the `gcd` in the standard library!*"
   ]
  },
  {
   "cell_type": "markdown",
   "metadata": {},
   "source": [
    "```\n",
    "GCD(50,500)= GCD(500,500%50)\n",
    "        = GCD(50,0)\n",
    "        = 50\n",
    "GCD(24,18)= GCD(18,24%18)\n",
    "        = GCD(18,6)\n",
    "        = GCD(6,18%6)\n",
    "        = GCD(6,0)\n",
    "        = 6\n",
    "```"
   ]
  },
  {
   "cell_type": "code",
   "execution_count": 12,
   "metadata": {},
   "outputs": [],
   "source": [
    "def GCD(a,b):\n",
    "    while b!=0:\n",
    "        a,b = b,a%b\n",
    "    return a"
   ]
  },
  {
   "cell_type": "code",
   "execution_count": null,
   "metadata": {},
   "outputs": [],
   "source": [
    "GCD(84,0)"
   ]
  },
  {
   "cell_type": "code",
   "execution_count": 5,
   "metadata": {},
   "outputs": [],
   "source": [
    "# recursive\n",
    "def GCD_r(a,b):\n",
    "    \"\"\"Version récursive\"\"\"\n",
    "    if b ==0:\n",
    "        return a\n",
    "    else:\n",
    "        return GCD_r(b,a%b)"
   ]
  },
  {
   "cell_type": "code",
   "execution_count": 11,
   "metadata": {},
   "outputs": [
    {
     "data": {
      "text/plain": [
       "50"
      ]
     },
     "execution_count": 11,
     "metadata": {},
     "output_type": "execute_result"
    }
   ],
   "source": [
    "GCD_r(50,5000)"
   ]
  },
  {
   "cell_type": "markdown",
   "metadata": {},
   "source": [
    "La suite de fibionacci : $$F_0 =0, F_1=1, \\forall n \\leq 2, F_{n+2}=F_n +F_{n+1}$$\n",
    "\n",
    "$$0,1,1,2,3,5,8,13,21,...$$"
   ]
  },
  {
   "cell_type": "code",
   "execution_count": 13,
   "metadata": {},
   "outputs": [],
   "source": [
    "def fib(n):\n",
    "    \"\"\" Fonction qui renvoie le n ième terme de la suite de fibionacci\"\"\"\n",
    "    if n<=1:\n",
    "        return n\n",
    "    else:\n",
    "        return fib(n-2)+fib(n-1)"
   ]
  },
  {
   "cell_type": "code",
   "execution_count": 14,
   "metadata": {},
   "outputs": [
    {
     "data": {
      "text/plain": [
       "[0, 1, 1, 2, 3, 5, 8, 13, 21, 34]"
      ]
     },
     "execution_count": 14,
     "metadata": {},
     "output_type": "execute_result"
    }
   ],
   "source": [
    "[fib(n) for n in range(10)]"
   ]
  },
  {
   "cell_type": "markdown",
   "metadata": {},
   "source": [
    "```\n",
    "[0, 1, 1, 2, 3, 5, 8, 13, 21, 34]\n",
    " |  |\n",
    "    |  |\n",
    "       |  |\n",
    "``` "
   ]
  },
  {
   "cell_type": "code",
   "execution_count": null,
   "metadata": {},
   "outputs": [],
   "source": [
    "def fib_iter(n):\n",
    "    \"\"\" version itérative de la suite de fibionacci\"\"\"\n",
    "    a,b= 0,1\n",
    "    for i in range(n):\n",
    "        a,b =b,a+b\n",
    "    return a"
   ]
  },
  {
   "cell_type": "code",
   "execution_count": 17,
   "metadata": {},
   "outputs": [
    {
     "data": {
      "text/plain": [
       "[0, 1, 1, 2, 3, 5, 8, 13, 21, 34]"
      ]
     },
     "execution_count": 17,
     "metadata": {},
     "output_type": "execute_result"
    }
   ],
   "source": [
    "[fib_iter(n) for n in range(10)]"
   ]
  },
  {
   "cell_type": "code",
   "execution_count": 16,
   "metadata": {},
   "outputs": [
    {
     "data": {
      "text/plain": [
       "21"
      ]
     },
     "execution_count": 16,
     "metadata": {},
     "output_type": "execute_result"
    }
   ],
   "source": [
    "fib_iter(8)"
   ]
  },
  {
   "cell_type": "code",
   "execution_count": null,
   "metadata": {},
   "outputs": [],
   "source": [
    "print(fib(8))"
   ]
  },
  {
   "attachments": {},
   "cell_type": "markdown",
   "metadata": {},
   "source": [
    "## Dictionaries\n",
    "In class, we saw a (naive) implementation of a dictionary comprehension that swaps the keys and values in a dictionary:\n",
    "\n",
    "```\n",
    "{value: key for key, value in dictionary.items()}\n",
    "```\n",
    "\n",
    "However, this approach will fail when there are two keys in the dictionary with the same value.\n",
    "\n",
    "Write a function that properly reverses the keys and values of a dictionary - each key (originally a value) should map to a set of values (originally keys) that mapped to it. For example,\n",
    "\n",
    "```\n",
    "flip_dict({\"CA\": \"US\", \"NY\": \"US\", \"ON\": \"CA\"})\n",
    "# => {\"US\": [\"CA\", \"NY\"], \"CA\": [\"ON\"]}\n",
    "```\n",
    "\n",
    "Note: there is a data structure in the `collections` module from the standard library called `defaultdict` which provides exactly this sort of functionality. You provide it a factory method for creating default values in the dictionary (in this case, a list.) You can read more about `defaultdict` and other `collections` data structures [here](https://docs.python.org/3.4/library/collections.html)."
   ]
  },
  {
   "cell_type": "code",
   "execution_count": null,
   "metadata": {},
   "outputs": [],
   "source": [
    "def flip_dict(d):\n",
    "    pass\n",
    "        "
   ]
  },
  {
   "cell_type": "code",
   "execution_count": null,
   "metadata": {},
   "outputs": [],
   "source": [
    "liste=[('abdallah','ali',1978),('abdallah','mariem',2000),('salah','mohamed',2006)]\n",
    "for nom, prenom, anne in liste:\n",
    "    print(f'nom: {nom}, prenom: {prenom},année : {anne}')"
   ]
  },
  {
   "cell_type": "code",
   "execution_count": null,
   "metadata": {},
   "outputs": [],
   "source": [
    "flip_dict({\"CA\": \"US\", \"NY\": \"US\", \"ON\": \"CA\"})"
   ]
  },
  {
   "cell_type": "code",
   "execution_count": null,
   "metadata": {},
   "outputs": [],
   "source": [
    "flip_dict({\"Mohamed\": \"Sousse\",\n",
    "           \"Asma\": \"Bizerte\",\n",
    "           \"Mariem\": \"Gafsa\",\n",
    "           \"Ahmed\":'Bizerte',\n",
    "           'Ali':'Sousse',\n",
    "           \"Mounir\":'Monastir',\n",
    "           'Ons':'Béja',\n",
    "           'Abdallah':\"Bizerte\"})"
   ]
  },
  {
   "cell_type": "markdown",
   "metadata": {},
   "source": [
    "`{\"sousse\":[\"Mohamed\",\"Ali\"], \"Bizerte\":[\"Asma\",\"Ahmed\",\"Abdallah\"], ....}`"
   ]
  },
  {
   "attachments": {},
   "cell_type": "markdown",
   "metadata": {},
   "source": [
    "### Comprehensions\n",
    "\n",
    "*Read*\n",
    "\n",
    "Predict the output of each of the following list comprehensions. After you have written down your hypothesis, run the code in an interactive interpreter to see if you were correct. If you were incorrect, discuss with a partner why Python returns what it does.\n",
    "\n",
    "```\n",
    "[x for x in [1, 2, 3, 4]]\n",
    "[n - 2 for n in range(10)]\n",
    "[k % 10 for k in range(41) if k % 3 == 0]\n",
    "[s.lower() for s in ['PythOn', 'iS', 'cOoL'] if s[0] < s[-1]]\n",
    "\n",
    "# Something is fishy here. Can you spot it?\n",
    "arr = [[3,2,1], ['a','b','c'], [('do',), ['re'], 'mi']]\n",
    "print([el.append(el[0] * 4) for el in arr])  # What is printed?\n",
    "print(arr)  # What is the content of `arr` at this point?\n",
    "\n",
    "\n",
    "[letter for letter in \"pYthON\" if letter.isupper()]\n",
    "{len(w) for w in [\"its\", \"the\", \"remix\", \"to\", \"ignition\"]}\n",
    "```\n",
    "\n",
    "*Write*\n",
    "\n",
    "Write a comprehension to transform the input data structure into the output data structure\n",
    "\n",
    "```\n",
    "[0, 1, 2, 3] -> [1, 3, 5, 7]  # Double and add one\n",
    "['apple', 'orange', 'pear'] -> ['A', 'O', 'P']  # Capitalize first letter\n",
    "['apple', 'orange', 'pear'] -> ['apple', 'pear']  # Contains a 'p'\n",
    "\n",
    "[\"TA_sam\", \"student_poohbear\", \"TA_guido\", \"student_htiek\"] -> [\"sam\", \"guido\"]\n",
    "['apple', 'orange', 'pear'] -> [('apple', 5), ('orange', 6), ('pear', 4)]\n",
    "\n",
    "['apple', 'orange', 'pear'] -> {'apple': 5, 'orange': 6, 'pear': 4}\n",
    "```"
   ]
  },
  {
   "cell_type": "code",
   "execution_count": null,
   "metadata": {},
   "outputs": [],
   "source": [
    "#[x for x in [1, 2, 3, 4]]\"\n",
    "#[n - 2 for n in range(10)]\n",
    "#[k % 10 for k in range(41) if k % 3 == 0]\n",
    "[s.lower() for s in ['PythOn', 'iS', 'cOoL'] if s[0] < s[-1]]"
   ]
  },
  {
   "cell_type": "code",
   "execution_count": null,
   "metadata": {},
   "outputs": [],
   "source": [
    "L= [\"TA_sam\", \"student_poohbear\", \"TA_guido\", \"student_htiek\",\"abdallahTA_\"] #-> [\"sam\", \"guido\"]\n",
    "[word[3:] for word in L if word[:3]=='TA_']"
   ]
  },
  {
   "cell_type": "code",
   "execution_count": null,
   "metadata": {},
   "outputs": [],
   "source": [
    "arr = [[3,2,1], ['a','b','c'], [('do',), ['re'], 'mi']]\n",
    "print([el.append(el[0] * 4) for el in arr])  # What is printed?\n",
    "print(arr)  # What is the content of `arr` at this point?"
   ]
  },
  {
   "attachments": {},
   "cell_type": "markdown",
   "metadata": {},
   "source": [
    "### Pascal's Triangle\n",
    "Write a function that generates the next level of Pascal's triangle given a list that represents a valid row of Pascal’s triangle.\n",
    "\n",
    "```\n",
    "generate_pascal_row([1, 2, 1]) -> [1, 3, 3, 1]\n",
    "generate_pascal_row([1, 4, 6, 4, 1]) -> [1, 5, 10, 10, 5, 1]\n",
    "generate_pascal_row([]) -> [1]\n",
    "```\n",
    "\n",
    "As a reminder, each element in a row of Pascal's triangle is formed by summing the two elements in the previous row directly above (to the left and right) that elements. If there is only one element directly above, we only add that one. For example, the first 5 rows of Pascal's triangle look like:\n",
    "\n",
    "```\n",
    "    1\n",
    "   1 1\n",
    "  1 2 1\n",
    " 1 3 3 1\n",
    "1 4 6 4 1\n",
    "```\n",
    "\n",
    "You may find the `zip` function discussed briefly in lecture useful, along with some cleverness. Alternatively, you could solve this problem with `enumerate`. Avoid using a loop of the form `for i in len(range(row)):`.\n",
    "\n",
    "*Hint: Check out the diagram below. How could you use this insight to help complete this problem?*\n",
    "\n",
    "```\n",
    "  0 1 3 3 1\n",
    "+ 1 3 3 1 0\n",
    "-----------\n",
    "  1 4 6 4 1\n",
    "``` "
   ]
  },
  {
   "cell_type": "code",
   "execution_count": 12,
   "metadata": {},
   "outputs": [],
   "source": [
    "def generate_pascal_row(row):\n",
    "    pass"
   ]
  },
  {
   "cell_type": "code",
   "execution_count": null,
   "metadata": {},
   "outputs": [],
   "source": [
    "generate_pascal_row([1, 4, 6, 4, 1]) "
   ]
  },
  {
   "cell_type": "code",
   "execution_count": null,
   "metadata": {},
   "outputs": [],
   "source": [
    "generate_pascal_row([1, 5, 10, 10, 5, 1])"
   ]
  },
  {
   "attachments": {},
   "cell_type": "markdown",
   "metadata": {},
   "source": [
    "### Triad Phrases\n",
    "\n",
    "Triad words are English words for which the two smaller strings you make by extracting alternating letters both form valid words.\n",
    "\n",
    "For example:\n",
    "\n",
    "![Triad Phrases](https://i.imgur.com/jGEXJWi.png)\n",
    "\n",
    "Write a function to determine whether an entire phrase passed into a function is made of triad words. You can assume that all words are made of only alphabetic characters, and are separated by whitespace. We will consider the empty string to be an invalid English word.\n",
    "\n",
    "```\n",
    "is_triad_phrase(\"learned theorem\") # => True\n",
    "is_triad_phrase(\"studied theories\") # => False\n",
    "is_triad_phrase(\"wooded agrarians\") # => True\n",
    "is_triad_phrase(\"forrested farmers\") # => False\n",
    "is_triad_phrase(\"schooled oriole\") # => True\n",
    "is_triad_phrase(\"educated small bird\") # => False\n",
    "is_triad_phrase(\"a\") # => False\n",
    "is_triad_phrase(\"\") # => False\n",
    "```\n",
    "\n",
    "What would be an appropriate data structure in which to store the English words?\n",
    "\n"
   ]
  },
  {
   "cell_type": "markdown",
   "metadata": {},
   "source": []
  },
  {
   "cell_type": "code",
   "execution_count": null,
   "metadata": {},
   "outputs": [],
   "source": [
    "with open('words.txt','r') as file:\n",
    "    extract_words = file.readlines()\n",
    "    for line in extract_words[100:106]:\n",
    "        print(line.strip())"
   ]
  },
  {
   "cell_type": "code",
   "execution_count": null,
   "metadata": {},
   "outputs": [],
   "source": [
    "def is_triad_phrase(phrase:str)->bool:\n",
    "    words = phrase.split(' ')\n",
    "    i = 0\n",
    "    res = True\n",
    "    try :\n",
    "        with open('words.txt','r') as file:\n",
    "            english = [w.strip().lower() for w in file.readlines()]\n",
    "            #print(english[100:105])\n",
    "            while i < len(words) and res:\n",
    "                w1 =''.join([words[i][j] for j in range(0,len(words[i]),2)])\n",
    "                w2 =''.join([words[i][j] for j in range(1,len(words[i]),2)])\n",
    "                print(w1,w2)\n",
    "                if (w1 not in english) or (w2 not in english):\n",
    "                    res = False\n",
    "                i=i+1\n",
    "        return res\n",
    "    except FileNotFoundError:\n",
    "        print(f\"Le fichier words.txt n'existe pas.\") "
   ]
  },
  {
   "cell_type": "code",
   "execution_count": null,
   "metadata": {},
   "outputs": [],
   "source": [
    "is_triad_phrase(\"learned theorem\")"
   ]
  },
  {
   "cell_type": "code",
   "execution_count": null,
   "metadata": {},
   "outputs": [],
   "source": [
    "is_triad_phrase(\"studied theories\") # => False"
   ]
  },
  {
   "cell_type": "code",
   "execution_count": null,
   "metadata": {},
   "outputs": [],
   "source": [
    "is_triad_phrase(\"wooded agrarians\") # => True"
   ]
  },
  {
   "cell_type": "code",
   "execution_count": null,
   "metadata": {},
   "outputs": [],
   "source": [
    "is_triad_phrase(\"forrested farmers\") # => False"
   ]
  },
  {
   "cell_type": "code",
   "execution_count": null,
   "metadata": {},
   "outputs": [],
   "source": [
    "is_triad_phrase(\"schooled oriole\") # => True"
   ]
  },
  {
   "cell_type": "code",
   "execution_count": null,
   "metadata": {},
   "outputs": [],
   "source": [
    "is_triad_phrase(\"educated small bird\") # => False"
   ]
  },
  {
   "cell_type": "code",
   "execution_count": null,
   "metadata": {},
   "outputs": [],
   "source": [
    "is_triad_phrase(\"a\") # => False"
   ]
  },
  {
   "cell_type": "code",
   "execution_count": null,
   "metadata": {},
   "outputs": [],
   "source": [
    "is_triad_phrase(\"\") # => False"
   ]
  },
  {
   "attachments": {},
   "cell_type": "markdown",
   "metadata": {},
   "source": [
    "### Surpassing Phrases (challenge)\n",
    "\n",
    "Surpassing words are English words for which the gap between each adjacent pair of letters strictly increases. These gaps are computed without \"wrapping around\" from Z to A.\n",
    "\n",
    "For example:\n",
    "\n",
    "![Surpassing Phrases](https://i.imgur.com/XKiCnUc.png)\n",
    "\n",
    "Write a function to determine whether an entire phrase passed into a function is made of surpassing words. You can assume that all words are made of only alphabetic characters, and are separated by whitespace. We will consider the empty string and a 1-character string to be valid surpassing phrases.\n",
    "\n",
    "```\n",
    "is_surpassing_phrase(\"superb subway\") # => True\n",
    "is_surpassing_phrase(\"excellent train\") # => False\n",
    "is_surpassing_phrase(\"porky hogs\") # => True\n",
    "is_surpassing_phrase(\"plump pigs\") # => False\n",
    "is_surpassing_phrase(\"turnip fields\") # => True\n",
    "is_surpassing_phrase(\"root vegetable lands\") # => False\n",
    "is_surpassing_phrase(\"a\") # => True\n",
    "is_surpassing_phrase(\"\") # => True\n",
    "```\n",
    "\n",
    "You may find the Python functions `ord` (one-character string to integer ordinal) and `chr` (integer ordinal to one-character string) useful to solve this puzzle.\n",
    "\n",
    "```\n",
    "ord('a') # => 97\n",
    "chr(97) # => 'a'\n",
    "```\n",
    "\n"
   ]
  },
  {
   "cell_type": "code",
   "execution_count": null,
   "metadata": {},
   "outputs": [],
   "source": [
    "def is_surpassing_phrase(chaine:str):\n",
    "    words = chaine.split(' ')\n",
    "    res = True\n",
    "    j= 0\n",
    "    while j < len(words) and res :\n",
    "        paires = [words[j][i:i+2] for i in range(0,len(words[j])-1)]\n",
    "        diff   = [ord(x[1])-ord(x[0]) if ord(x[1])>ord(x[0]) else ord(x[0])-ord(x[1])  for x in paires]\n",
    "        if diff != sorted(diff):\n",
    "            res = False\n",
    "        j=j+1\n",
    "    return res"
   ]
  },
  {
   "cell_type": "code",
   "execution_count": null,
   "metadata": {},
   "outputs": [],
   "source": [
    "def is_surpassing_phrase(chaine:str):\n",
    "    words = chaine.split(' ')\n",
    "    res = True\n",
    "    j= 0\n",
    "    while j < len(words) and res :\n",
    "        paires = [words[j][i:i+2] for i in range(0,len(words[j])-1)]\n",
    "        diff   = [ord(x[1])-ord(x[0]) if ord(x[1])>ord(x[0]) else ord(x[0])-ord(x[1])  for x in paires]\n",
    "        k = 0\n",
    "        while k< len(diff)-1 and diff[k]<= diff[k+1]:\n",
    "            k+=1\n",
    "        if k < len(diff)-1:\n",
    "            res = False\n",
    "        j=j+1\n",
    "    return res"
   ]
  },
  {
   "cell_type": "code",
   "execution_count": null,
   "metadata": {},
   "outputs": [],
   "source": [
    "is_surpassing_phrase('SUPERB')"
   ]
  },
  {
   "cell_type": "code",
   "execution_count": null,
   "metadata": {},
   "outputs": [],
   "source": [
    "is_surpassing_phrase(\"excellent train\") # => False"
   ]
  },
  {
   "cell_type": "code",
   "execution_count": null,
   "metadata": {},
   "outputs": [],
   "source": [
    "is_surpassing_phrase(\"porky hogs\") # => True"
   ]
  },
  {
   "cell_type": "code",
   "execution_count": null,
   "metadata": {},
   "outputs": [],
   "source": [
    "is_surpassing_phrase(\"plump pigs\") # => False"
   ]
  },
  {
   "cell_type": "code",
   "execution_count": null,
   "metadata": {},
   "outputs": [],
   "source": [
    "is_surpassing_phrase(\"turnip fields\") # => True"
   ]
  },
  {
   "cell_type": "code",
   "execution_count": null,
   "metadata": {},
   "outputs": [],
   "source": [
    "is_surpassing_phrase(\"root vegetable lands\") # => False"
   ]
  },
  {
   "cell_type": "code",
   "execution_count": null,
   "metadata": {},
   "outputs": [],
   "source": [
    "is_surpassing_phrase(\"a\") # => True"
   ]
  },
  {
   "cell_type": "code",
   "execution_count": null,
   "metadata": {},
   "outputs": [],
   "source": [
    "is_surpassing_phrase(\"\") # => True"
   ]
  },
  {
   "attachments": {},
   "cell_type": "markdown",
   "metadata": {},
   "source": [
    "### Cyclone Phrases (challenge)\n",
    "\n",
    "Cyclone words are English words that have a sequence of characters in alphabetical order when following a cyclic pattern. \n",
    "\n",
    "For example:\n",
    "\n",
    "![Cyclone Phrases](https://i.sstatic.net/4XBV3.png)\n",
    "\n",
    "Write a function that to determine whether an entire phrase passed into a function is made of cyclone words. You can assume that all words are made of only alphabetic characters, and are separated by whitespace.\n",
    "\n",
    "```\n",
    "is_cyclone_phrase(\"adjourned\") # => True\n",
    "is_cyclone_phrase(\"settled\") # => False\n",
    "is_cyclone_phrase(\"all alone at noon\") # => True\n",
    "is_cyclone_phrase(\"by myself at twelve pm\") # => False\n",
    "is_cyclone_phrase(\"acb\") # => True\n",
    "is_cyclone_phrase(\"\") # => True\n",
    "```\n",
    "\n",
    "Using either `/usr/share/dict/words` or `http://stanfordpython.com/res/misc/words`, which are cyclone words? As a sanity check, we found 769 distinct cyclone words."
   ]
  },
  {
   "cell_type": "code",
   "execution_count": null,
   "metadata": {},
   "outputs": [],
   "source": [
    "def cyclone_phrase(word:str):\n",
    "    cycle = [ i//2 if i %2==0 else -((i+1)//2) for i in range(len(word))]\n",
    "    return [word[j] for j in cycle]"
   ]
  },
  {
   "cell_type": "code",
   "execution_count": null,
   "metadata": {},
   "outputs": [],
   "source": [
    "cyclone_phrase('adjourned')"
   ]
  },
  {
   "cell_type": "code",
   "execution_count": null,
   "metadata": {},
   "outputs": [],
   "source": [
    "def is_cyclone_phrase(phrase):\n",
    "    words = phrase.split(' ')\n",
    "    res = True\n",
    "    j=0\n",
    "    while j< len(words) and res :\n",
    "        cycle = [ words[j][i//2] if i %2==0 else words[j][-((i+1)//2)] for i in range(len(words[j]))]\n",
    "        k = 0\n",
    "        while k< len(words[j])-1 and cycle[k]<= cycle[k+1]:\n",
    "            k+=1\n",
    "        if k < len(words[j])-1:\n",
    "            res = False\n",
    "        j=j+1\n",
    "    return res "
   ]
  },
  {
   "cell_type": "code",
   "execution_count": null,
   "metadata": {},
   "outputs": [],
   "source": [
    "is_cyclone_phrase('adjourned')"
   ]
  },
  {
   "cell_type": "code",
   "execution_count": null,
   "metadata": {},
   "outputs": [],
   "source": [
    "is_cyclone_phrase(\"adjourned\") # => True\n"
   ]
  },
  {
   "cell_type": "code",
   "execution_count": null,
   "metadata": {},
   "outputs": [],
   "source": [
    "is_cyclone_phrase(\"settled\") # => False\n"
   ]
  },
  {
   "cell_type": "code",
   "execution_count": null,
   "metadata": {},
   "outputs": [],
   "source": [
    "is_cyclone_phrase(\"all alone at noon\") # => True\n",
    "\n"
   ]
  },
  {
   "cell_type": "code",
   "execution_count": null,
   "metadata": {},
   "outputs": [],
   "source": [
    "is_cyclone_phrase(\"by myself at twelve pm\") # => False\n"
   ]
  },
  {
   "cell_type": "code",
   "execution_count": null,
   "metadata": {},
   "outputs": [],
   "source": [
    "is_cyclone_phrase(\"acb\") # => True"
   ]
  },
  {
   "cell_type": "code",
   "execution_count": null,
   "metadata": {},
   "outputs": [],
   "source": [
    "is_cyclone_phrase(\"\") # => True"
   ]
  },
  {
   "cell_type": "code",
   "execution_count": null,
   "metadata": {},
   "outputs": [],
   "source": [
    "def is_cyclone_phrase(phrase):\n",
    "    words = phrase.split(' ')\n",
    "    res = True\n",
    "    j=0\n",
    "    while j< len(words) and res :\n",
    "        cycle = [ i//2 if i %2==0 else -((i+1)//2) for i in range(len(words[j]))]\n",
    "        word_cycle=[words[j][l] for l in cycle]\n",
    "        if word_cycle != sorted(word_cycle):\n",
    "            res = False\n",
    "        j=j+1\n",
    "    return res "
   ]
  }
 ],
 "metadata": {
  "kernelspec": {
   "display_name": "base",
   "language": "python",
   "name": "python3"
  },
  "language_info": {
   "codemirror_mode": {
    "name": "ipython",
    "version": 3
   },
   "file_extension": ".py",
   "mimetype": "text/x-python",
   "name": "python",
   "nbconvert_exporter": "python",
   "pygments_lexer": "ipython3",
   "version": "3.12.7"
  }
 },
 "nbformat": 4,
 "nbformat_minor": 4
}
